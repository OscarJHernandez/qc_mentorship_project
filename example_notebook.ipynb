{
 "cells": [
  {
   "cell_type": "code",
   "execution_count": 48,
   "metadata": {},
   "outputs": [
    {
     "name": "stdout",
     "output_type": "stream",
     "text": [
      "The autoreload extension is already loaded. To reload it, use:\n",
      "  %reload_ext autoreload\n"
     ]
    }
   ],
   "source": [
    "import matplotlib.pyplot as plt\n",
    "import sympy\n",
    "import itertools\n",
    "import numpy as np\n",
    "\n",
    "\n",
    "import sys\n",
    "IN_COLAB = 'google.colab' in sys.modules\n",
    "if IN_COLAB:\n",
    "  ! git clone https://github.com/OscarJHernandez/qc_portfolio_optimization\n",
    "  from google.colab import drive\n",
    "  drive.mount('/content/gdrive')\n",
    "  %cd qc_portfolio_optimization\n",
    "  ! pip install cirq\n",
    "  ! pip install qiskit\n",
    "  ! git pull\n",
    "\n",
    "import cirq\n",
    "from cirq.contrib.svg import SVGCircuit\n",
    "import src.qc_utils as utils\n",
    "\n",
    "%load_ext autoreload\n",
    "%autoreload 2"
   ]
  },
  {
   "cell_type": "code",
   "execution_count": 49,
   "metadata": {},
   "outputs": [],
   "source": [
    "# Define the number of stocks in portfolio to optimize\n",
    "N_portfolio = 3\n",
    "\n",
    "# Parameters of the cross-entropy optimizer for the beta, gamma angles \n",
    "N_trials_ce = 100\n",
    "N_ce_iterations = 10\n",
    "N_ce_samples = 50\n",
    "f_elite = 0.1\n",
    "\n",
    "# Portfolio parameters \n",
    "portfolio_parameters = {}\n",
    "\n",
    "# Daily returns \n",
    "portfolio_parameters['mu'] = np.array([4.01e-04,  6.10e-05,  9.16e-04, -6.19e-04])\n",
    "\n",
    "# The covariance matrix\n",
    "portfolio_parameters['sigma'] = np.array([[9.980e-05, 4.250e-05, 3.720e-05, 4.030e-05],\n",
    "                                          [4.250e-05, 1.005e-04, 4.110e-05, 1.520e-05],\n",
    "                                          [3.720e-05, 4.110e-05, 1.813e-04, 1.790e-05],\n",
    "                                          [4.030e-05, 1.520e-05, 1.790e-05, 2.531e-04]])\n",
    "# The transaction costs\n",
    "portfolio_parameters['T'] = 0.0\n",
    "\n",
    "# The scale of the lagrangian constraint\n",
    "portfolio_parameters['A'] = 0.03\n",
    "\n",
    "# The previous portfolio holding vector\n",
    "portfolio_parameters['y'] = np.array([0.0,0.0,0.0,0.0])\n",
    "\n",
    "# The risk aversion parameter (lam=0 maximally greedy, lam=1 maximally risk averse)\n",
    "portfolio_parameters['lam'] = 0.9\n",
    "\n",
    "# The number of assets to hold in the end (constraint)\n",
    "portfolio_parameters['D'] = 2"
   ]
  },
  {
   "cell_type": "markdown",
   "metadata": {},
   "source": [
    "# Determine the optimal solution via brute-force search"
   ]
  },
  {
   "cell_type": "code",
   "execution_count": 50,
   "metadata": {},
   "outputs": [
    {
     "name": "stdout",
     "output_type": "stream",
     "text": [
      "{'mu': array([4.01e-04, 6.10e-05, 9.16e-04]), 'sigma': array([[9.980e-05, 4.250e-05, 3.720e-05],\n",
      "       [4.250e-05, 1.005e-04, 4.110e-05],\n",
      "       [3.720e-05, 4.110e-05, 1.813e-04]]), 'D': 2.0, 'lam': 0.9, 'T': 0, 'A': 0.03, 'y': array([0., 0., 0., 0., 0., 0., 0., 0.])}\n",
      "====================================================================================================\n",
      "Brute-Force state:  [[1 0 1]]\n",
      "Brute-Force energy:  0.00018825000000000008\n",
      "====================================================================================================\n"
     ]
    }
   ],
   "source": [
    "# Instantiate the portfolio \n",
    "portfolio = utils.Portfolio(N_portfolio=N_portfolio)\n",
    "\n",
    "# Get the benchmark parameters\n",
    "benchmark_parameters = portfolio.benchmark_values()\n",
    "print(benchmark_parameters)\n",
    "\n",
    "# Determine the results via a bruteforce search\n",
    "best_bruteforce_result = portfolio.brute_force_search(portfolio_parameters)\n",
    "\n",
    "# Provide the optimal energy along with the state\n",
    "print('='*100)\n",
    "print('Brute-Force state: ', best_bruteforce_result['minimum_cost_states'])\n",
    "print('Brute-Force energy: ', best_bruteforce_result['minimum_cost'])\n",
    "print('='*100)"
   ]
  },
  {
   "cell_type": "markdown",
   "metadata": {},
   "source": [
    "# Construct the QAOA-soft circuit"
   ]
  },
  {
   "cell_type": "code",
   "execution_count": 52,
   "metadata": {},
   "outputs": [
    {
     "name": "stdout",
     "output_type": "stream",
     "text": [
      "                                                                                                                                          ┌────────────────────────────────────────────────────────────┐   ┌───────────────────────────────────────────────────────────────────────────────────────┐   ┌─────────────────────────────────────────────────────────────────────────────────────┐   ┌──────────────────────────────────────────────────────────────┐   ┌────────────────────────────────────────────────────────────┐                                                                                                                                         ┌────────────────────────────────────────────────────────────┐   ┌────────────────────────────────────────────────────────┐                                     ┌────────────────────────────────────────────────────────────┐   ┌────────────────────────────────────────────────────────────────────┐   ┌───────────────────────────────────────────────────────────────────┐                                                                                                                                                                                                         ┌──────────────────────────────────────────┐   ┌─────────────────────────────────────────────────────────────┐   ┌────────────────────────────────────────────────────────────┐   ┌────────────────────────────────────────────┐   ┌──────────────────────────────────────────┐                                                                                                     ┌──────────────────────────────────────────┐   ┌───────────────────────────────────────┐                            ┌──────────────────────────────────────────┐   ┌────────────────────────────────────────────┐   ┌──────────────────────────────────────────┐\n",
      "0: ───H───Rz(-gamma_0*mu_0*(1 - L))───ZZ───────────────────────────────ZZ───────────────────────────────ZZ─────────────────────────────────ZZ──────────────────────────────────────────────────────────────────────────────────────────────ZZ───────────────────────────────────────────────────────────ZZ───────────────────────────────────────────────────────────────────────────────────────────────────────────────────────ZZ────────────────────────────────────────────────────────────────ZZ────────────────────────────────────────────────────────────────────────────────────────────────────────────────────────────────────────────────────────────────────────────────────────────────────────────────────────────────────────────────────────────────────────────────────────────────────ZZ───────────────────────────────────────────────────────────────ZZ─────────────────────────────────Rz(0.5*T*gamma_0*(-y_0**2 - y_0 + 1))───────────────────────────────────────────────────────────────────────────────────────────────────────────ZZ──────────────────────────────────────Rz(2*A*D*gamma_0)───────────────────────ZZ─────────────────────────────────────ZZ──────────────────────────────────────ZZ──────────────────────────────────────ZZ───────────────────────────────────────────────────────────────────ZZ──────────────────────────────────────────ZZ─────────────────────────────────────────────────────────────────────────────────────ZZ──────────────────────────────────────────────ZZ────────────────────────────────────────────────────────────────────────────────────────────────────────────────────────────────────────────────────────────────────────────────────────────────────────────────────ZZ─────────────────────────────────────────────ZZ────────────────────────Rx(2*beta_0)───────────────────────────────────────────────────────────────────────────────────────────────────────────────────────────────────────────────────────────────────────────M('m')───\n",
      "                                      │                                │                                │                                  │                                                                                               │                                                            │                                                                                                                        │                                                                 │                                                                                                                                                                                                                                                                                                     │                                                                │                                                                                                                                                                                  │                                                                               │                                      │                                       │                                       │                                                                    │                                           │                                                                                      │                                               │                                                                                                                                                                                                                     │                                              │                                                                                                                                                                                                                │\n",
      "1: ───H───Rz(-gamma_0*mu_0*(L - 1))───ZZ^(L*gamma_0*sigma_00/(4*pi))───ZZ^(L*gamma_0*sigma_00/(4*pi))───┼──────────────────────────────────┼─────────────────────────────ZZ─────────────────────────────────ZZ─────────────────────────────┼────────────────────────────────────────────────────────────┼─────────────────────────────ZZ──────────────────────────────────────────────────────────ZZ─────────────────────────────┼───────────────────────────────────ZZ────────────────────────────┼─────────────────────────────────ZZ──────────────────────────────────────────────────────────────────────────────────────────────────────────────────────────────────────────────────────────────────────────────────────────────────────────────────────────────────────────────────────────────────┼──────────────────────────────────ZZ────────────────────────────┼──────────────────────────────────ZZ───────────────────────────────────────────────────────────────────────Rz(0.5*T*gamma_0*(-y_0**2 + y_0 + 1))──────────────────────────────────ZZ^(0.5*T*gamma_0*(2*y_0**2 - 1)/pi)────Rz(-2*A*D*gamma_0)──────────────────────ZZ^(A*gamma_0/(4*pi))──────────────────ZZ^(A*gamma_0/(4*pi))───────────────────┼───────────────────────────────────────┼────────────────────ZZ────────────────────────ZZ────────────────────┼───────────────────────────────────────────┼────────────────────ZZ──────────────────────────────────────────ZZ────────────────────┼──────────────────────────ZZ───────────────────┼────────────────────────ZZ───────────────────────────────────────────────────────────────────────────────────────────────────────────────────────────────────────────────────────────────────────────────────────────┼─────────────────────────ZZ───────────────────┼─────────────────────────ZZ───────────────────────────────────────────────Rx(2*beta_0)──────────────────────────────────────────────────────────────────────────────────────────────────────────────────────────M────────\n",
      "                                                                                                        │                                  │                             │                                  │                              │                                                            │                             │                                                           │                              │                                   │                             │                                 │                                                                                                                                                                                                                                                                   │                                  │                             │                                  │                                                                                                                                                                                                                                                                                                              │                                       │                    │                         │                     │                                           │                    │                                           │                     │                          │                    │                        │                                                                                                                                                                                            │                         │                    │                         │                                                                                                                                                                                      │\n",
      "2: ───H─────────────────────────────────────────────────────────────────────────────────────────────────ZZ^(-L*gamma_0*sigma_10/(4*pi))────┼─────────────────────────────ZZ^(L*gamma_0*sigma_10/(4*pi))─────┼──────────────────────────────┼──────────────────────────────Rz(-gamma_0*mu_1*(1 - L))─────┼─────────────────────────────┼───────────────────────────────────────────────────────────┼──────────────────────────────ZZ^(-L*gamma_0*sigma_01/(4*pi))─────ZZ^(L*gamma_0*sigma_01/(4*pi))┼─────────────────────────────────┼─────────────────────────────────ZZ───────────────────────────────ZZ───────────────────────────────ZZ─────────────────────────────────ZZ───────────────────────────────────────────────────────────────────────────────────────────────────────────────────────────┼──────────────────────────────────┼─────────────────────────────┼──────────────────────────────────┼────────────────────────────────────ZZ───────────────────────────────────────────────────────────────────────ZZ────────────────────────────────Rz(0.5*T*gamma_0*(-y_1**2 - y_1 + 1))───────────────────────────────────────────ZZ─────────────────────────────────────────────────────────────────────────────ZZ^(-A*gamma_0/(4*pi))──────────────────┼────────────────────ZZ^(A*gamma_0/(4*pi))─────┼─────────────────────┼─────────────────────Rz(2*A*D*gamma_0)─────┼────────────────────┼───────────────────────────────────────────┼─────────────────────ZZ^(-A*gamma_0/(4*pi))─────ZZ^(A*gamma_0/(4*pi))┼────────────────────────┼────────────────────────ZZ──────────────────────ZZ──────────────────────ZZ────────────────────────ZZ────────────────────────────────────────────────────────────────────────────────────────┼─────────────────────────┼────────────────────┼─────────────────────────┼─────────────────────ZZ──────────────────────────────────────────────ZZ───────────────────────Rx(2*beta_0)────────────────────────────────────────────────────────────────────────────M────────\n",
      "                                                                                                                                           │                                                                │                              │                                                            │                             │                                                           │                                                                                                │                                 │                                 │                                │                                │                                  │                                                                                                                            │                                  │                             │                                  │                                    │                                                                        │                                                                                                                 │                                                                                                                      │                                              │                     │                                           │                    │                                           │                                                                     │                        │                        │                       │                       │                         │                                                                                         │                         │                    │                         │                     │                                               │                                                                                                                │\n",
      "3: ───H────────────────────────────────────────────────────────────────────────────────────────────────────────────────────────────────────ZZ^(L*gamma_0*sigma_10/(4*pi))───────────────────────────────────ZZ^(-L*gamma_0*sigma_10/(4*pi))┼────────────────────────────────────────────────────────────┼─────────────────────────────┼─────────────────────────────Rz(-gamma_0*mu_1*(L - 1))─────┼────────────────────────────────────────────────────────────────────────────────────────────────ZZ^(L*gamma_0*sigma_01/(4*pi))────ZZ^(-L*gamma_0*sigma_01/(4*pi))───ZZ^(L*gamma_0*sigma_11/(4*pi))───ZZ^(L*gamma_0*sigma_11/(4*pi))───┼──────────────────────────────────┼─────────────────────────────ZZ─────────────────────────────────ZZ──────────────────────────────────────────────────────────┼──────────────────────────────────┼─────────────────────────────┼──────────────────────────────────┼────────────────────────────────────┼───────────────────────────────────ZZ───────────────────────────────────┼─────────────────────────────────ZZ──────────────────────────────────────Rz(0.5*T*gamma_0*(-y_1**2 + y_1 + 1))───ZZ^(0.5*T*gamma_0*(2*y_1**2 - 1)/pi)───────────────────────────────────────────────────────────────────────────────────ZZ^(A*gamma_0/(4*pi))──────────────────────────ZZ^(-A*gamma_0/(4*pi))┼───────────────────────────────────────────┼────────────────────┼────────────────────Rz(-2*A*D*gamma_0)─────┼─────────────────────────────────────────────────────────────────────ZZ^(A*gamma_0/(4*pi))────ZZ^(-A*gamma_0/(4*pi))───ZZ^(A*gamma_0/(4*pi))───ZZ^(A*gamma_0/(4*pi))───┼─────────────────────────┼────────────────────ZZ────────────────────────ZZ─────────────────────────────────────────┼─────────────────────────┼────────────────────┼─────────────────────────┼─────────────────────┼──────────────────────────ZZ───────────────────┼────────────────────────ZZ───────────────────────Rx(2*beta_0)───────────────────────────────────────────────────M────────\n",
      "                                                                                                                                                                                                                                           │                                                            │                             │                                                           │                                                                                                                                                                                                                                      │                                  │                             │                                  │                                                           │                                  │                             │                                  │                                    │                                   │                                    │                                 │                                                                                                                                                                                                                                                                           │                                           │                    │                                           │                                                                                                                                                                       │                         │                    │                         │                                          │                         │                    │                         │                     │                          │                    │                        │                                                                                       │\n",
      "4: ───H────────────────────────────────────────────────────────────────────────────────────────────────────────────────────────────────────────────────────────────────────────────────────────────────────────────────────────────────────ZZ^(-L*gamma_0*sigma_20/(4*pi))──────────────────────────────┼─────────────────────────────ZZ^(L*gamma_0*sigma_20/(4*pi))──────────────────────────────┼──────────────────────────────────────────────────────────────────────────────────────────────────────────────────────────────────────────────────────────────────────────────────────────────────────────────────────────────────────ZZ^(-L*gamma_0*sigma_21/(4*pi))────┼─────────────────────────────ZZ^(L*gamma_0*sigma_21/(4*pi))─────┼──────────────────────────────Rz(-gamma_0*mu_2*(1 - L))────ZZ^(-L*gamma_0*sigma_02/(4*pi))────ZZ^(L*gamma_0*sigma_02/(4*pi))┼──────────────────────────────────┼────────────────────────────────────ZZ^(-L*gamma_0*sigma_12/(4*pi))─────ZZ^(L*gamma_0*sigma_12/(4*pi))───────┼─────────────────────────────────┼───────────────────────────────────────ZZ──────────────────────────────────────ZZ─────────────────────────────────────Rz(0.5*T*gamma_0*(-y_2**2 - y_2 + 1))───ZZ───────────────────────────────────────────────────────────────────────────────────────────────────────────ZZ^(-A*gamma_0/(4*pi))──────────────────────┼────────────────────ZZ^(A*gamma_0/(4*pi))───────────────────────┼───────────────────────────────────────────────────────────────────────────────────────────────────────────────────────────────────────────────────────────────────────ZZ^(-A*gamma_0/(4*pi))────┼────────────────────ZZ^(A*gamma_0/(4*pi))─────┼─────────────────────Rz(2*A*D*gamma_0)────ZZ^(-A*gamma_0/(4*pi))────ZZ^(A*gamma_0/(4*pi))┼─────────────────────────┼─────────────────────ZZ^(-A*gamma_0/(4*pi))─────ZZ^(A*gamma_0/(4*pi))┼────────────────────────┼────────────────────────ZZ──────────────────────ZZ──────────────────────Rx(2*beta_0)───M────────\n",
      "                                                                                                                                                                                                                                                                                                        │                                                                                         │                                                                                                                                                                                                                                                                         │                                                                │                                                                                                                            │                                  │                                                                                                             │                                 │                                       │                                       │                                                                              │                                                                                                                                                        │                                                                │                                                                                                                                                                                                 │                                              │                                                                                         │                         │                                                                     │                        │                        │                       │                                      │\n",
      "5: ───H─────────────────────────────────────────────────────────────────────────────────────────────────────────────────────────────────────────────────────────────────────────────────────────────────────────────────────────────────────────────────────────────────────────────────────────────────ZZ^(L*gamma_0*sigma_20/(4*pi))────────────────────────────────────────────────────────────ZZ^(-L*gamma_0*sigma_20/(4*pi))───────────────────────────────────────────────────────────────────────────────────────────────────────────────────────────────────────────────────────────────────────────────────────────────────────────────────────────────────────────ZZ^(L*gamma_0*sigma_21/(4*pi))───────────────────────────────────ZZ^(-L*gamma_0*sigma_21/(4*pi))─────────────────────────────Rz(-gamma_0*mu_2*(L - 1))────────────────────────────────────────ZZ^(L*gamma_0*sigma_02/(4*pi))─────ZZ^(-L*gamma_0*sigma_02/(4*pi))───────────────────────────────────────────────────────────────────────────────ZZ^(L*gamma_0*sigma_12/(4*pi))────ZZ^(-L*gamma_0*sigma_12/(4*pi))─────────ZZ^(L*gamma_0*sigma_22/(4*pi))──────────ZZ^(L*gamma_0*sigma_22/(4*pi))─────────Rz(0.5*T*gamma_0*(-y_2**2 + y_2 + 1))───ZZ^(0.5*T*gamma_0*(2*y_2**2 - 1)/pi)─────────────────────────────────────────────────────────────────────────────────────────────────────────────────────ZZ^(A*gamma_0/(4*pi))────────────────────────────────────────────ZZ^(-A*gamma_0/(4*pi))────────────────────────────────────────────────────────────────────────────────────────────────────────────────────────────────────────────────────────────────────────────ZZ^(A*gamma_0/(4*pi))──────────────────────────ZZ^(-A*gamma_0/(4*pi))─────────────────────Rz(-2*A*D*gamma_0)─────────────────────────────ZZ^(A*gamma_0/(4*pi))─────ZZ^(-A*gamma_0/(4*pi))────────────────────────────────────────────────ZZ^(A*gamma_0/(4*pi))────ZZ^(-A*gamma_0/(4*pi))───ZZ^(A*gamma_0/(4*pi))───ZZ^(A*gamma_0/(4*pi))───Rx(2*beta_0)───M────────\n",
      "                                                                                                                                          └────────────────────────────────────────────────────────────┘   └───────────────────────────────────────────────────────────────────────────────────────┘   └─────────────────────────────────────────────────────────────────────────────────────┘   └──────────────────────────────────────────────────────────────┘   └────────────────────────────────────────────────────────────┘                                                                                                                                         └────────────────────────────────────────────────────────────┘   └────────────────────────────────────────────────────────┘                                     └────────────────────────────────────────────────────────────┘   └────────────────────────────────────────────────────────────────────┘   └───────────────────────────────────────────────────────────────────┘                                                                                                                                                                                                         └──────────────────────────────────────────┘   └─────────────────────────────────────────────────────────────┘   └────────────────────────────────────────────────────────────┘   └────────────────────────────────────────────┘   └──────────────────────────────────────────┘                                                                                                     └──────────────────────────────────────────┘   └───────────────────────────────────────┘                            └──────────────────────────────────────────┘   └────────────────────────────────────────────┘   └──────────────────────────────────────────┘\n"
     ]
    }
   ],
   "source": [
    "# Generate a QAOA circuit with p=1 depth\n",
    "QAOA_soft_circuit = portfolio.QAOA_soft_circuit(p=1)\n",
    "\n",
    "# plot the circuit\n",
    "#SVGCircuit(QAOA_soft_circuit)\n",
    "print(QAOA_soft_circuit)"
   ]
  },
  {
   "cell_type": "code",
   "execution_count": 53,
   "metadata": {},
   "outputs": [
    {
     "name": "stderr",
     "output_type": "stream",
     "text": [
      "100%|██████████| 50/50 [00:08<00:00,  6.13it/s]\n",
      "  2%|▏         | 1/50 [00:00<00:08,  6.11it/s]"
     ]
    },
    {
     "name": "stdout",
     "output_type": "stream",
     "text": [
      "k=0, mean_E=0.108156, std_E=0.024033, gammas[pi]=[0.09731592], betas[pi]=[1.29209572]\n"
     ]
    },
    {
     "name": "stderr",
     "output_type": "stream",
     "text": [
      "100%|██████████| 50/50 [00:08<00:00,  6.10it/s]\n",
      "  2%|▏         | 1/50 [00:00<00:08,  6.12it/s]"
     ]
    },
    {
     "name": "stdout",
     "output_type": "stream",
     "text": [
      "k=1, mean_E=0.064138, std_E=0.009880, gammas[pi]=[0.01678452], betas[pi]=[1.46114721]\n"
     ]
    },
    {
     "name": "stderr",
     "output_type": "stream",
     "text": [
      "100%|██████████| 50/50 [00:08<00:00,  6.04it/s]\n",
      "  2%|▏         | 1/50 [00:00<00:08,  6.03it/s]"
     ]
    },
    {
     "name": "stdout",
     "output_type": "stream",
     "text": [
      "k=2, mean_E=0.065692, std_E=0.004397, gammas[pi]=[0.58334039], betas[pi]=[1.65899142]\n"
     ]
    },
    {
     "name": "stderr",
     "output_type": "stream",
     "text": [
      "100%|██████████| 50/50 [00:08<00:00,  6.15it/s]\n",
      "  2%|▏         | 1/50 [00:00<00:08,  5.76it/s]"
     ]
    },
    {
     "name": "stdout",
     "output_type": "stream",
     "text": [
      "k=3, mean_E=0.050215, std_E=0.001444, gammas[pi]=[0.97275589], betas[pi]=[1.74886255]\n"
     ]
    },
    {
     "name": "stderr",
     "output_type": "stream",
     "text": [
      "100%|██████████| 50/50 [00:08<00:00,  5.91it/s]\n",
      "  2%|▏         | 1/50 [00:00<00:08,  6.08it/s]"
     ]
    },
    {
     "name": "stdout",
     "output_type": "stream",
     "text": [
      "k=4, mean_E=0.046393, std_E=0.003081, gammas[pi]=[1.11891424], betas[pi]=[1.76226618]\n"
     ]
    },
    {
     "name": "stderr",
     "output_type": "stream",
     "text": [
      "100%|██████████| 50/50 [00:08<00:00,  5.80it/s]\n",
      "  2%|▏         | 1/50 [00:00<00:07,  6.25it/s]"
     ]
    },
    {
     "name": "stdout",
     "output_type": "stream",
     "text": [
      "k=5, mean_E=0.038776, std_E=0.001838, gammas[pi]=[1.22962367], betas[pi]=[1.75369857]\n"
     ]
    },
    {
     "name": "stderr",
     "output_type": "stream",
     "text": [
      "100%|██████████| 50/50 [00:08<00:00,  6.16it/s]\n",
      "  2%|▏         | 1/50 [00:00<00:08,  6.06it/s]"
     ]
    },
    {
     "name": "stdout",
     "output_type": "stream",
     "text": [
      "k=6, mean_E=0.032598, std_E=0.001536, gammas[pi]=[1.31320037], betas[pi]=[1.74467055]\n"
     ]
    },
    {
     "name": "stderr",
     "output_type": "stream",
     "text": [
      "100%|██████████| 50/50 [00:08<00:00,  6.21it/s]\n",
      "  0%|          | 0/50 [00:00<?, ?it/s]"
     ]
    },
    {
     "name": "stdout",
     "output_type": "stream",
     "text": [
      "k=7, mean_E=0.029361, std_E=0.005100, gammas[pi]=[1.34612923], betas[pi]=[1.74527375]\n"
     ]
    },
    {
     "name": "stderr",
     "output_type": "stream",
     "text": [
      "100%|██████████| 50/50 [00:08<00:00,  5.95it/s]\n",
      "  2%|▏         | 1/50 [00:00<00:08,  5.97it/s]"
     ]
    },
    {
     "name": "stdout",
     "output_type": "stream",
     "text": [
      "k=8, mean_E=0.030994, std_E=0.001784, gammas[pi]=[1.44599209], betas[pi]=[1.74645132]\n"
     ]
    },
    {
     "name": "stderr",
     "output_type": "stream",
     "text": [
      "100%|██████████| 50/50 [00:08<00:00,  6.16it/s]\n"
     ]
    },
    {
     "name": "stdout",
     "output_type": "stream",
     "text": [
      "k=9, mean_E=0.029603, std_E=0.000987, gammas[pi]=[1.45850832], betas[pi]=[1.73911378]\n"
     ]
    }
   ],
   "source": [
    "# The results for the QAOA_soft circuit\n",
    "ce_QAOA_soft_results =portfolio.optimize_circuit_angles_cross_entropy(QAOA_soft_circuit,\n",
    "                                                            parameters=portfolio_parameters,\n",
    "                                                            p=1,\n",
    "                                                            n_trials=N_trials_ce,\n",
    "                                                            iterations=N_ce_iterations,\n",
    "                                                            f_elite=f_elite,\n",
    "                                                            Nce_samples = N_ce_samples)"
   ]
  },
  {
   "cell_type": "code",
   "execution_count": 64,
   "metadata": {},
   "outputs": [
    {
     "name": "stdout",
     "output_type": "stream",
     "text": [
      "====================================================================================================\n",
      "optimal_gammas:  [4.60516456]\n",
      "optimals_betas:  [5.46736977]\n",
      "best solutions:  {'minimum_cost': 0.00018825000000000008, 'minimum_cost_states': array([[1, 0, 1]]), 'minimum_cost_probabilities': array([0.08])}\n",
      "====================================================================================================\n"
     ]
    },
    {
     "data": {
      "image/png": "[encoded data removed]",
      "text/plain": [
       "<Figure size 1080x360 with 1 Axes>"
      ]
     },
     "metadata": {
      "needs_background": "light"
     },
     "output_type": "display_data"
    }
   ],
   "source": [
    "print('='*100)\n",
    "print('optimal_gammas: ', ce_QAOA_soft_results['optimal_gammas'])\n",
    "print('optimals_betas: ', ce_QAOA_soft_results['optimal_betas'])\n",
    "print('best solutions: ', ce_QAOA_soft_results['best_solutions'])\n",
    "print('='*100)\n",
    "\n",
    "bitstrings = portfolio.measure_circuit(QAOA_soft_circuit,parameters=benchmark_parameters,\n",
    "                                       betas=ce_QAOA_soft_results['optimal_betas'],\n",
    "                                       gammas=ce_QAOA_soft_results['optimal_gammas'],\n",
    "                                       n_trials=N_trials_ce)\n",
    "portfolio_holdings = portfolio.convert_bitstrings_to_portfolio_holdings(bitstrings)\n",
    "\n",
    "\n",
    "plt.figure(figsize=(15,5))\n",
    "plt.title(\"QAOA-soft holdings\",size=20)\n",
    "plt.bar(np.arange(len(portfolio_holdings['labels'])), portfolio_holdings['counts'], tick_label=portfolio_holdings['labels'])\n",
    "plt.xticks(rotation=90)\n",
    "plt.xlabel('Portfolio holding states',size=20)\n",
    "plt.show()"
   ]
  },
  {
   "cell_type": "markdown",
   "metadata": {},
   "source": [
    "# Construct the QAOA-hard circuit"
   ]
  },
  {
   "cell_type": "code",
   "execution_count": 65,
   "metadata": {},
   "outputs": [],
   "source": [
    "# Generate a QAOA with hard constrains circuit with p=1 depth\n",
    "QAOA_hard_circuit = portfolio.QAOA_hard_circuit(D=portfolio_parameters['D'],p=1)"
   ]
  },
  {
   "cell_type": "code",
   "execution_count": 57,
   "metadata": {},
   "outputs": [
    {
     "name": "stderr",
     "output_type": "stream",
     "text": [
      "100%|██████████| 50/50 [00:05<00:00,  9.74it/s]\n",
      "  2%|▏         | 1/50 [00:00<00:05,  8.41it/s]"
     ]
    },
    {
     "name": "stdout",
     "output_type": "stream",
     "text": [
      "k=0, mean_E=0.000188, std_E=0.000000, gammas[pi]=[1.49994018], betas[pi]=[1.71512995]\n"
     ]
    },
    {
     "name": "stderr",
     "output_type": "stream",
     "text": [
      "100%|██████████| 50/50 [00:05<00:00,  9.82it/s]\n",
      "  2%|▏         | 1/50 [00:00<00:05,  9.60it/s]"
     ]
    },
    {
     "name": "stdout",
     "output_type": "stream",
     "text": [
      "k=1, mean_E=0.000189, std_E=0.000001, gammas[pi]=[1.43688909], betas[pi]=[1.54327342]\n"
     ]
    },
    {
     "name": "stderr",
     "output_type": "stream",
     "text": [
      "100%|██████████| 50/50 [00:05<00:00,  9.16it/s]\n",
      "  2%|▏         | 1/50 [00:00<00:05,  9.41it/s]"
     ]
    },
    {
     "name": "stdout",
     "output_type": "stream",
     "text": [
      "k=2, mean_E=0.000189, std_E=0.000001, gammas[pi]=[1.43992351], betas[pi]=[1.54894228]\n"
     ]
    },
    {
     "name": "stderr",
     "output_type": "stream",
     "text": [
      "100%|██████████| 50/50 [00:05<00:00,  9.63it/s]\n",
      "  2%|▏         | 1/50 [00:00<00:05,  9.17it/s]"
     ]
    },
    {
     "name": "stdout",
     "output_type": "stream",
     "text": [
      "k=3, mean_E=0.000190, std_E=0.000002, gammas[pi]=[1.25427446], betas[pi]=[1.52444957]\n"
     ]
    },
    {
     "name": "stderr",
     "output_type": "stream",
     "text": [
      "100%|██████████| 50/50 [00:05<00:00,  9.87it/s]\n",
      "  2%|▏         | 1/50 [00:00<00:05,  9.63it/s]"
     ]
    },
    {
     "name": "stdout",
     "output_type": "stream",
     "text": [
      "k=4, mean_E=0.000188, std_E=0.000000, gammas[pi]=[1.04687038], betas[pi]=[1.35669905]\n"
     ]
    },
    {
     "name": "stderr",
     "output_type": "stream",
     "text": [
      "100%|██████████| 50/50 [00:05<00:00,  9.80it/s]\n",
      "  2%|▏         | 1/50 [00:00<00:05,  9.51it/s]"
     ]
    },
    {
     "name": "stdout",
     "output_type": "stream",
     "text": [
      "k=5, mean_E=0.000188, std_E=0.000000, gammas[pi]=[1.49145303], betas[pi]=[1.64979905]\n"
     ]
    },
    {
     "name": "stderr",
     "output_type": "stream",
     "text": [
      "100%|██████████| 50/50 [00:05<00:00,  9.33it/s]\n",
      "  2%|▏         | 1/50 [00:00<00:05,  9.67it/s]"
     ]
    },
    {
     "name": "stdout",
     "output_type": "stream",
     "text": [
      "k=6, mean_E=0.000188, std_E=0.000000, gammas[pi]=[1.72843918], betas[pi]=[1.85248116]\n"
     ]
    },
    {
     "name": "stderr",
     "output_type": "stream",
     "text": [
      "100%|██████████| 50/50 [00:05<00:00,  9.49it/s]\n",
      "  2%|▏         | 1/50 [00:00<00:04,  9.81it/s]"
     ]
    },
    {
     "name": "stdout",
     "output_type": "stream",
     "text": [
      "k=7, mean_E=0.000189, std_E=0.000000, gammas[pi]=[1.88245895], betas[pi]=[2.05432078]\n"
     ]
    },
    {
     "name": "stderr",
     "output_type": "stream",
     "text": [
      "100%|██████████| 50/50 [00:05<00:00,  9.36it/s]\n",
      "  4%|▍         | 2/50 [00:00<00:04, 10.10it/s]"
     ]
    },
    {
     "name": "stdout",
     "output_type": "stream",
     "text": [
      "k=8, mean_E=0.000189, std_E=0.000000, gammas[pi]=[1.88726506], betas[pi]=[2.06113093]\n"
     ]
    },
    {
     "name": "stderr",
     "output_type": "stream",
     "text": [
      "100%|██████████| 50/50 [00:05<00:00,  9.85it/s]\n"
     ]
    },
    {
     "name": "stdout",
     "output_type": "stream",
     "text": [
      "k=9, mean_E=0.000189, std_E=0.000000, gammas[pi]=[2.12001237], betas[pi]=[2.23055624]\n"
     ]
    }
   ],
   "source": [
    "# The results for the QAOA_hard circuit\n",
    "ce_QAOA_hard_results =portfolio.optimize_circuit_angles_cross_entropy(QAOA_hard_circuit,\n",
    "                                                            parameters=portfolio_parameters,\n",
    "                                                            p=1, # The depth of the circuit\n",
    "                                                            n_trials=N_trials_ce,\n",
    "                                                            iterations=N_ce_iterations,\n",
    "                                                            f_elite=f_elite,\n",
    "                                                            Nce_samples = N_ce_samples)"
   ]
  },
  {
   "cell_type": "code",
   "execution_count": 63,
   "metadata": {},
   "outputs": [
    {
     "name": "stdout",
     "output_type": "stream",
     "text": [
      "====================================================================================================\n",
      "optimal_gammas:  [6.17479011]\n",
      "optimals_betas:  [6.78032274]\n",
      "best solutions:  {'minimum_cost': 0.00018825000000000008, 'minimum_cost_states': array([[1, 0, 1]]), 'minimum_cost_probabilities': array([0.71])}\n",
      "====================================================================================================\n"
     ]
    },
    {
     "data": {
      "image/png": "[encoded data removed]",
      "text/plain": [
       "<Figure size 1080x360 with 1 Axes>"
      ]
     },
     "metadata": {
      "needs_background": "light"
     },
     "output_type": "display_data"
    }
   ],
   "source": [
    "print('='*100)\n",
    "print('optimal_gammas: ', ce_QAOA_hard_results['optimal_gammas'])\n",
    "print('optimals_betas: ', ce_QAOA_hard_results['optimal_betas'])\n",
    "print('best solutions: ', ce_QAOA_hard_results['best_solutions'])\n",
    "print('='*100)\n",
    "\n",
    "bitstrings = portfolio.measure_circuit(QAOA_hard_circuit,parameters=benchmark_parameters,\n",
    "                                       betas=ce_QAOA_hard_results['optimal_betas'],\n",
    "                                       gammas=ce_QAOA_hard_results['optimal_gammas'],\n",
    "                                       n_trials=N_trials_ce)\n",
    "portfolio_holdings = portfolio.convert_bitstrings_to_portfolio_holdings(bitstrings)\n",
    "\n",
    "\n",
    "plt.figure(figsize=(15,5))\n",
    "plt.title(\"QAOA-hard holdings\",size=20)\n",
    "plt.bar(np.arange(len(portfolio_holdings['labels'])), portfolio_holdings['counts'], tick_label=portfolio_holdings['labels'])\n",
    "plt.xticks(rotation=90)\n",
    "plt.xlabel('Portfolio holding states',size=20)\n",
    "plt.show()"
   ]
  },
  {
   "cell_type": "code",
   "execution_count": null,
   "metadata": {},
   "outputs": [],
   "source": []
  }
 ],
 "metadata": {
  "kernelspec": {
   "display_name": "qc_optimization",
   "language": "python",
   "name": "qc_optimization"
  },
  "language_info": {
   "codemirror_mode": {
    "name": "ipython",
    "version": 3
   },
   "file_extension": ".py",
   "mimetype": "text/x-python",
   "name": "python",
   "nbconvert_exporter": "python",
   "pygments_lexer": "ipython3",
   "version": "3.8.5"
  }
 },
 "nbformat": 4,
 "nbformat_minor": 4
}
